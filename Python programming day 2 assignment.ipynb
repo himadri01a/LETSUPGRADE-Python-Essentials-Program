{
  "nbformat": 4,
  "nbformat_minor": 0,
  "metadata": {
    "kernelspec": {
      "display_name": "Python 3",
      "language": "python",
      "name": "python3"
    },
    "language_info": {
      "codemirror_mode": {
        "name": "ipython",
        "version": 3
      },
      "file_extension": ".py",
      "mimetype": "text/x-python",
      "name": "python",
      "nbconvert_exporter": "python",
      "pygments_lexer": "ipython3",
      "version": "3.7.3"
    },
    "colab": {
      "name": "Python programming day 2 assignment.ipynb",
      "provenance": []
    }
  },
  "cells": [
    {
      "cell_type": "markdown",
      "metadata": {
        "id": "o_q61NpyWp88"
      },
      "source": [
        "# question 1\n",
        "Question 1\n",
        "Try 5 Different functions of the String in Python.\n",
        "For example - index, split function."
      ]
    },
    {
      "cell_type": "code",
      "metadata": {
        "colab": {
          "base_uri": "https://localhost:8080/"
        },
        "id": "-hugmtiHWp9m",
        "outputId": "d8580b13-af8c-4b34-8325-1262532c2bdb"
      },
      "source": [
        "txt = \"HELLO HIMADRI\"\n",
        " \n",
        "x = txt.split()\n",
        " \n",
        "print(x)"
      ],
      "execution_count": 1,
      "outputs": [
        {
          "output_type": "stream",
          "text": [
            "['HELLO', 'HIMADRI']\n"
          ],
          "name": "stdout"
        }
      ]
    },
    {
      "cell_type": "code",
      "metadata": {
        "id": "wbppimPZWp9w",
        "outputId": "339586e2-e8ba-43b5-913d-0512470d3510"
      },
      "source": [
        "txt = \"Counter12\"\n",
        "\n",
        "x = txt.isalnum()\n",
        "\n",
        "print(x)"
      ],
      "execution_count": null,
      "outputs": [
        {
          "output_type": "stream",
          "text": [
            "True\n"
          ],
          "name": "stdout"
        }
      ]
    },
    {
      "cell_type": "code",
      "metadata": {
        "colab": {
          "base_uri": "https://localhost:8080/"
        },
        "id": "h1_WJ7rPWp9z",
        "outputId": "4c274219-a16a-4f6d-c31b-c131aaa8c1f5"
      },
      "source": [
        "txt = \" hello , welcome Himadri Shekhar das.\"\n",
        " \n",
        "x = txt.index(\"welcome\")\n",
        " \n",
        "print(x)"
      ],
      "execution_count": 4,
      "outputs": [
        {
          "output_type": "stream",
          "text": [
            "9\n"
          ],
          "name": "stdout"
        }
      ]
    },
    {
      "cell_type": "code",
      "metadata": {
        "id": "cbRGuhFhWp92",
        "outputId": "e02f3b55-c0e5-4a36-a05a-646dd6de89c0"
      },
      "source": [
        "txt = \"hello, and welcome to my world.\"\n",
        "\n",
        "x = txt.capitalize()\n",
        "\n",
        "print (x)"
      ],
      "execution_count": null,
      "outputs": [
        {
          "output_type": "stream",
          "text": [
            "Hello, and welcome to my world.\n"
          ],
          "name": "stdout"
        }
      ]
    },
    {
      "cell_type": "code",
      "metadata": {
        "colab": {
          "base_uri": "https://localhost:8080/"
        },
        "id": "v95V-zfmWp95",
        "outputId": "2af1258e-284d-4d37-f5e3-33c626ef9e85"
      },
      "source": [
        "txt = \"My name is Himådri\"\n",
        " \n",
        "x = txt.encode()\n",
        " \n",
        "print(x)"
      ],
      "execution_count": 6,
      "outputs": [
        {
          "output_type": "stream",
          "text": [
            "b'My name is Him\\xc3\\xa5dri'\n"
          ],
          "name": "stdout"
        }
      ]
    },
    {
      "cell_type": "markdown",
      "metadata": {
        "id": "zM9BU6uUWp99"
      },
      "source": [
        "# question 2\n",
        "Question 2\n",
        "Try 5 Different functions of the List object in Python"
      ]
    },
    {
      "cell_type": "code",
      "metadata": {
        "colab": {
          "base_uri": "https://localhost:8080/"
        },
        "id": "lJZ1V4cMWp9_",
        "outputId": "45894ba0-d230-49b9-ec29-f3ac1d5f0942"
      },
      "source": [
        "fruits = ['Mango', 'banana', 'cherry']\n",
        "fruits.append(\"orange\")\n",
        "fruits"
      ],
      "execution_count": 7,
      "outputs": [
        {
          "output_type": "execute_result",
          "data": {
            "text/plain": [
              "['Mango', 'banana', 'cherry', 'orange']"
            ]
          },
          "metadata": {
            "tags": []
          },
          "execution_count": 7
        }
      ]
    },
    {
      "cell_type": "code",
      "metadata": {
        "id": "MR-fTAYMWp-D",
        "outputId": "6494d369-a5c1-4b5e-a836-50edca51d992"
      },
      "source": [
        "fruits = ['apple', 'banana', 'cherry']\n",
        "\n",
        "x = fruits.index(\"cherry\")\n",
        "x"
      ],
      "execution_count": null,
      "outputs": [
        {
          "output_type": "execute_result",
          "data": {
            "text/plain": [
              "2"
            ]
          },
          "metadata": {
            "tags": []
          },
          "execution_count": 9
        }
      ]
    },
    {
      "cell_type": "code",
      "metadata": {
        "id": "-bNHjDsXWp-G",
        "outputId": "043dac4c-6e57-4a3c-a320-ee9d20e5d86f"
      },
      "source": [
        "fruits = ['apple', 'banana', 'cherry']\n",
        "fruits.insert(1, \"orange\")\n",
        "fruits"
      ],
      "execution_count": null,
      "outputs": [
        {
          "output_type": "execute_result",
          "data": {
            "text/plain": [
              "['apple', 'orange', 'banana', 'cherry']"
            ]
          },
          "metadata": {
            "tags": []
          },
          "execution_count": 12
        }
      ]
    },
    {
      "cell_type": "code",
      "metadata": {
        "id": "4c5lmHwFWp-J",
        "outputId": "99459bf2-edb2-4ec7-8427-c61ec232ab3e"
      },
      "source": [
        "fruits = ['apple', 'banana', 'cherry']\n",
        "fruits.reverse()\n",
        "fruits"
      ],
      "execution_count": null,
      "outputs": [
        {
          "output_type": "execute_result",
          "data": {
            "text/plain": [
              "['cherry', 'banana', 'apple']"
            ]
          },
          "metadata": {
            "tags": []
          },
          "execution_count": 13
        }
      ]
    },
    {
      "cell_type": "code",
      "metadata": {
        "id": "6CSq9rlOWp-M",
        "outputId": "cf930ccb-009c-4402-bd5a-c21c771ac9a1"
      },
      "source": [
        "cars = ['Ford', 'BMW', 'Volvo']\n",
        "cars.sort()\n",
        "cars"
      ],
      "execution_count": null,
      "outputs": [
        {
          "output_type": "execute_result",
          "data": {
            "text/plain": [
              "['BMW', 'Ford', 'Volvo']"
            ]
          },
          "metadata": {
            "tags": []
          },
          "execution_count": 14
        }
      ]
    },
    {
      "cell_type": "markdown",
      "metadata": {
        "id": "I0OQMekyWp-O"
      },
      "source": [
        "# question 3 \n",
        "Question 3\n",
        "Experiment with at least 5 default functions of Dictionary"
      ]
    },
    {
      "cell_type": "code",
      "metadata": {
        "id": "qPrDFzV0Wp-Q",
        "outputId": "1102947f-5a93-41f0-b546-00e4b3ec9b58"
      },
      "source": [
        "x = ('key1', 'key2', 'key3')\n",
        "y = 0\n",
        "\n",
        "thisdict = dict.fromkeys(x, y)\n",
        "\n",
        "print(thisdict)"
      ],
      "execution_count": null,
      "outputs": [
        {
          "output_type": "stream",
          "text": [
            "{'key1': 0, 'key2': 0, 'key3': 0}\n"
          ],
          "name": "stdout"
        }
      ]
    },
    {
      "cell_type": "code",
      "metadata": {
        "id": "3zvbBBMFWp-T",
        "outputId": "1e5a381b-240d-4fe2-fef7-3a09de92f59e"
      },
      "source": [
        "car = {\n",
        "  \"brand\": \"Ford\",\n",
        "  \"model\": \"Mustang\",\n",
        "  \"year\": 1964\n",
        "}\n",
        "\n",
        "x = car.items()\n",
        "\n",
        "print(x)"
      ],
      "execution_count": null,
      "outputs": [
        {
          "output_type": "stream",
          "text": [
            "dict_items([('brand', 'Ford'), ('model', 'Mustang'), ('year', 1964)])\n"
          ],
          "name": "stdout"
        }
      ]
    },
    {
      "cell_type": "code",
      "metadata": {
        "id": "TORrVWEYWp-V",
        "outputId": "2c656383-279e-4c0c-e3ee-20b345d8a087"
      },
      "source": [
        "car = {\n",
        "  \"brand\": \"Ford\",\n",
        "  \"model\": \"Mustang\",\n",
        "  \"year\": 1964\n",
        "}\n",
        "\n",
        "car.pop(\"model\")\n",
        "\n",
        "print(car)"
      ],
      "execution_count": null,
      "outputs": [
        {
          "output_type": "stream",
          "text": [
            "{'brand': 'Ford', 'year': 1964}\n"
          ],
          "name": "stdout"
        }
      ]
    },
    {
      "cell_type": "code",
      "metadata": {
        "id": "E0iia7h-Wp-Y",
        "outputId": "c6bc7704-f6c1-41d7-f298-9e1de1886d4b"
      },
      "source": [
        "ar = {\n",
        "  \"brand\": \"Ford\",\n",
        "  \"model\": \"Mustang\",\n",
        "  \"year\": 1964\n",
        "}\n",
        " \n",
        "car.update({\"color\": \"White\"})\n",
        " \n",
        "print(car)"
      ],
      "execution_count": null,
      "outputs": [
        {
          "output_type": "stream",
          "text": [
            "{'brand': 'Ford', 'year': 1964, 'color': 'White'}\n"
          ],
          "name": "stdout"
        }
      ]
    },
    {
      "cell_type": "code",
      "metadata": {
        "id": "LrTw3_F8Wp-b",
        "outputId": "b9bdeb90-6ff6-4781-f7ab-05881b02760b"
      },
      "source": [
        "car = {\n",
        "  \"brand\": \"Ford\",\n",
        "  \"model\": \"Mustang\",\n",
        "  \"year\": 1964\n",
        "}\n",
        "\n",
        "x = car.values()\n",
        "\n",
        "print(x)\n"
      ],
      "execution_count": null,
      "outputs": [
        {
          "output_type": "stream",
          "text": [
            "dict_values(['Ford', 'Mustang', 1964])\n"
          ],
          "name": "stdout"
        }
      ]
    }
  ]
}
