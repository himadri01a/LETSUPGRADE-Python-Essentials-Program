{
 "cells": [
  {
   "cell_type": "code",
   "execution_count": 2,
   "metadata": {},
   "outputs": [
    {
     "name": "stdout",
     "output_type": "stream",
     "text": [
      "Requirement already satisfied: cryptography in c:\\programdata\\anaconda3\\lib\\site-packages (2.8)\n",
      "Requirement already satisfied: six>=1.4.1 in c:\\programdata\\anaconda3\\lib\\site-packages (from cryptography) (1.14.0)\n",
      "Requirement already satisfied: cffi!=1.11.3,>=1.8 in c:\\programdata\\anaconda3\\lib\\site-packages (from cryptography) (1.14.0)\n",
      "Requirement already satisfied: pycparser in c:\\programdata\\anaconda3\\lib\\site-packages (from cffi!=1.11.3,>=1.8->cryptography) (2.19)\n"
     ]
    }
   ],
   "source": [
    "!pip install cryptography"
   ]
  },
  {
   "cell_type": "code",
   "execution_count": 65,
   "metadata": {},
   "outputs": [],
   "source": [
    "from cryptography.fernet import Fernet"
   ]
  },
  {
   "cell_type": "code",
   "execution_count": 66,
   "metadata": {},
   "outputs": [],
   "source": [
    "def secretKey():\n",
    "    key = Fernet.generate_key()\n",
    "    file = open(\"NOT-needed.key\", \"wb\")\n",
    "    file.write(key)\n",
    "    file.close()"
   ]
  },
  {
   "cell_type": "code",
   "execution_count": 67,
   "metadata": {},
   "outputs": [],
   "source": [
    "def getMyKey():\n",
    "    file = open(\"NOT-needed.key\",'rb')\n",
    "    return file.read()"
   ]
  },
  {
   "cell_type": "code",
   "execution_count": 68,
   "metadata": {},
   "outputs": [],
   "source": [
    "def encryptMessage(inputMessage):\n",
    "    key = getMyKey()\n",
    "    k = Fernet(key)\n",
    "    secureMessage = k.encrypt(inputMessage)\n",
    "    print(\"\\n\",\" This is the secure message\")\n",
    "    return secureMessage"
   ]
  },
  {
   "cell_type": "code",
   "execution_count": 62,
   "metadata": {
    "scrolled": true
   },
   "outputs": [
    {
     "name": "stdout",
     "output_type": "stream",
     "text": [
      "Enter message that needs to be secured - Let's make it simple\n",
      "\n",
      "  This is the secure message\n"
     ]
    },
    {
     "data": {
      "text/plain": [
       "b'gAAAAABf3Ff-6IlM8L-wDKjaOckvp1LCRhbIM3DjbWkfE8e1PbBp73-mc6sAZGgY3ihG6bFNEksRBljCSKZ1LlXml3tQqKuivMs3IZ6B3z5EEwLa7CC1bCM='"
      ]
     },
     "execution_count": 62,
     "metadata": {},
     "output_type": "execute_result"
    }
   ],
   "source": [
    "message =bytes(input(\"Enter message that needs to be secured - \"),'utf-8' )\n",
    "encryptMessage(message)\n",
    "#print(message)\n",
    "#print(type(message))"
   ]
  },
  {
   "cell_type": "code",
   "execution_count": 63,
   "metadata": {},
   "outputs": [],
   "source": [
    "def decryptMessage(inputMessage):\n",
    "    key = getMyKey()\n",
    "    k = Fernet(key)\n",
    "    unsecureMessage = k.decrypt(inputMessage)\n",
    "    print(\"\\n\",\" This is the secure message\")\n",
    "    return unsecureMessage.decode()"
   ]
  },
  {
   "cell_type": "code",
   "execution_count": 64,
   "metadata": {},
   "outputs": [
    {
     "name": "stdout",
     "output_type": "stream",
     "text": [
      "Enter the secure message - gAAAAABf3Ff-6IlM8L-wDKjaOckvp1LCRhbIM3DjbWkfE8e1PbBp73-mc6sAZGgY3ihG6bFNEksRBljCSKZ1LlXml3tQqKuivMs3IZ6B3z5EEwLa7CC1bCM=\n",
      "\n",
      "  This is the secure message\n"
     ]
    },
    {
     "data": {
      "text/plain": [
       "\"Let's make it simple\""
      ]
     },
     "execution_count": 64,
     "metadata": {},
     "output_type": "execute_result"
    }
   ],
   "source": [
    "message = bytes(input(\"Enter the secure message - \"), 'utf-8')\n",
    "decryptMessage(message)"
   ]
  },
  {
   "cell_type": "code",
   "execution_count": null,
   "metadata": {},
   "outputs": [],
   "source": []
  },
  {
   "cell_type": "code",
   "execution_count": null,
   "metadata": {},
   "outputs": [],
   "source": []
  }
 ],
 "metadata": {
  "kernelspec": {
   "display_name": "Python 3",
   "language": "python",
   "name": "python3"
  },
  "language_info": {
   "codemirror_mode": {
    "name": "ipython",
    "version": 3
   },
   "file_extension": ".py",
   "mimetype": "text/x-python",
   "name": "python",
   "nbconvert_exporter": "python",
   "pygments_lexer": "ipython3",
   "version": "3.7.6"
  }
 },
 "nbformat": 4,
 "nbformat_minor": 4
}
