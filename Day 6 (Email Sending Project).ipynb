{
  "nbformat": 4,
  "nbformat_minor": 0,
  "metadata": {
    "kernelspec": {
      "display_name": "Python 3",
      "language": "python",
      "name": "python3"
    },
    "language_info": {
      "codemirror_mode": {
        "name": "ipython",
        "version": 3
      },
      "file_extension": ".py",
      "mimetype": "text/x-python",
      "name": "python",
      "nbconvert_exporter": "python",
      "pygments_lexer": "ipython3",
      "version": "3.8.3"
    },
    "colab": {
      "name": "Day 6 (Email Sending Project).ipynb",
      "provenance": []
    }
  },
  "cells": [
    {
      "cell_type": "markdown",
      "metadata": {
        "id": "KuyrftjQ-rSr"
      },
      "source": [
        "Project - Email Sending "
      ]
    },
    {
      "cell_type": "code",
      "metadata": {
        "id": "II4bNUri-rTg",
        "outputId": "ff62821f-4c48-4f13-c177-4c8f4835e8f3",
        "colab": {
          "base_uri": "https://localhost:8080/"
        }
      },
      "source": [
        "!pip install emails"
      ],
      "execution_count": 1,
      "outputs": [
        {
          "output_type": "stream",
          "text": [
            "Collecting emails\n",
            "\u001b[?25l  Downloading https://files.pythonhosted.org/packages/55/7e/b648d640d88d31de49e566832aca9cce025c52d6349b0a0fc65e9df1f4c5/emails-0.6-py2.py3-none-any.whl (56kB)\n",
            "\r\u001b[K     |█████▉                          | 10kB 16.5MB/s eta 0:00:01\r\u001b[K     |███████████▋                    | 20kB 22.8MB/s eta 0:00:01\r\u001b[K     |█████████████████▌              | 30kB 17.8MB/s eta 0:00:01\r\u001b[K     |███████████████████████▎        | 40kB 16.3MB/s eta 0:00:01\r\u001b[K     |█████████████████████████████▏  | 51kB 16.4MB/s eta 0:00:01\r\u001b[K     |████████████████████████████████| 61kB 5.7MB/s \n",
            "\u001b[?25hRequirement already satisfied: requests in /usr/local/lib/python3.6/dist-packages (from emails) (2.23.0)\n",
            "Requirement already satisfied: python-dateutil in /usr/local/lib/python3.6/dist-packages (from emails) (2.8.1)\n",
            "Collecting premailer\n",
            "  Downloading https://files.pythonhosted.org/packages/cd/ce/74bbdf0eee4265fd3f161d4276b36c9238b802191c2053c8e68578bda4e6/premailer-3.7.0-py2.py3-none-any.whl\n",
            "Collecting cssutils\n",
            "\u001b[?25l  Downloading https://files.pythonhosted.org/packages/6b/15/a9fb9010f58d1c55dd0b7779db2334feb9a572d407024f39a60f44293861/cssutils-1.0.2-py3-none-any.whl (406kB)\n",
            "\u001b[K     |████████████████████████████████| 409kB 16.3MB/s \n",
            "\u001b[?25hRequirement already satisfied: chardet in /usr/local/lib/python3.6/dist-packages (from emails) (3.0.4)\n",
            "Requirement already satisfied: lxml in /usr/local/lib/python3.6/dist-packages (from emails) (4.2.6)\n",
            "Requirement already satisfied: idna<3,>=2.5 in /usr/local/lib/python3.6/dist-packages (from requests->emails) (2.10)\n",
            "Requirement already satisfied: urllib3!=1.25.0,!=1.25.1,<1.26,>=1.21.1 in /usr/local/lib/python3.6/dist-packages (from requests->emails) (1.24.3)\n",
            "Requirement already satisfied: certifi>=2017.4.17 in /usr/local/lib/python3.6/dist-packages (from requests->emails) (2020.12.5)\n",
            "Requirement already satisfied: six>=1.5 in /usr/local/lib/python3.6/dist-packages (from python-dateutil->emails) (1.15.0)\n",
            "Requirement already satisfied: cachetools in /usr/local/lib/python3.6/dist-packages (from premailer->emails) (4.2.0)\n",
            "Collecting cssselect\n",
            "  Downloading https://files.pythonhosted.org/packages/3b/d4/3b5c17f00cce85b9a1e6f91096e1cc8e8ede2e1be8e96b87ce1ed09e92c5/cssselect-1.1.0-py2.py3-none-any.whl\n",
            "Installing collected packages: cssutils, cssselect, premailer, emails\n",
            "Successfully installed cssselect-1.1.0 cssutils-1.0.2 emails-0.6 premailer-3.7.0\n"
          ],
          "name": "stdout"
        }
      ]
    },
    {
      "cell_type": "code",
      "metadata": {
        "id": "cmsq1PNe-rT0"
      },
      "source": [
        "import emails"
      ],
      "execution_count": 2,
      "outputs": []
    },
    {
      "cell_type": "code",
      "metadata": {
        "id": "XP3XX0UT-rT3"
      },
      "source": [
        "html_text = '''<p><span style=\"font-family: Courier New, courier;\"><span style=\"background-color: rgb(247, 218, 100);\">HELLo</span>&nbsp;</span></p>\n",
        "<p><span style=\"font-family: Courier New, courier;\"><br></span></p>\n",
        "<p><span style=\"font-family: Courier New, courier;\">How are you this?,&nbsp;</span></p>\n",
        "<p><span style=\"font-family: Courier New, courier;\">Student!!</span></p>\n",
        "<p><span style=\"font-family: Courier New, courier;\">studying engineering, I like this project&nbsp;</span></p>\n",
        "<p><span style=\"font-family: Courier New, courier;\"><br></span></p>\n",
        "<p><span style=\"font-family: Courier New, courier;\">Regards,&nbsp;</span></p>\n",
        "<p><strong><span style=\"font-family: Courier New, courier;\">Student,</span></strong></p>\n",
        "<p><span style=\"font-family: Courier New, courier;\"><strong>Thejaswini N</strong></span></p>'''\n",
        " \n",
        " \n",
        "message = emails.html(html=html_text,\n",
        "                          subject=\"Your EMAIL FROM PYTHON SCRIPT\",\n",
        "                          mail_from=('himadri', 'himadri@xyz.com'))"
      ],
      "execution_count": 3,
      "outputs": []
    },
    {
      "cell_type": "code",
      "metadata": {
        "id": "5eqLrFaB-rT7"
      },
      "source": [
        "mail_via_python = message.send(to='himadri@xyz.com', \n",
        "                               smtp={'host': 'smtp.gmail.com', \n",
        "                                     'timeout': 5,\n",
        "                                    'port':587,\n",
        "                                    'user':'himadri@xyz.com',\n",
        "                                    'password':'12345abcd@',\n",
        "                                    'tls':True})"
      ],
      "execution_count": 5,
      "outputs": []
    },
    {
      "cell_type": "code",
      "metadata": {
        "id": "WUpXY8Af-rT_",
        "outputId": "c6fba4df-fed5-4752-ce91-d3311adf079b"
      },
      "source": [
        "mail_via_python"
      ],
      "execution_count": null,
      "outputs": [
        {
          "output_type": "execute_result",
          "data": {
            "text/plain": [
              "<emails.backend.SMTPResponse status_code=None status_text=None>"
            ]
          },
          "metadata": {
            "tags": []
          },
          "execution_count": 20
        }
      ]
    },
    {
      "cell_type": "code",
      "metadata": {
        "id": "V0UIKd0W-rUE"
      },
      "source": [
        "def sendMail(email, name):\n",
        "    \n",
        "    html_text = '''<p><span style=\"font-family: Courier New, courier;\"><span style=\"background-color: rgb(247, 218, 100);\">HELLo</span>&nbsp;</span></p>\n",
        "                    <p><span style=\"font-family: Courier New, courier;\"><br></span></p>\n",
        "                    <p><span style=\"font-family: Courier New, courier;\">How are you this?,&nbsp;</span></p>\n",
        "                    <p><span style=\"font-family: Courier New, courier;\">Student!!</span></p>\n",
        "                    <p><span style=\"font-family: Courier New, courier;\">studying engineering, I like this project&nbsp;</span></p>\n",
        "                    <p><span style=\"font-family: Courier New, courier;\"><br></span></p>\n",
        "                    <p><span style=\"font-family: Courier New, courier;\">Regards,&nbsp;</span></p>\n",
        "                    <p><strong><span style=\"font-family: Courier New, courier;\">Student,</span></strong></p>\n",
        "                    <p><span style=\"font-family: Courier New, courier;\"><strong>Thejaswini N</strong></span></p>'''\n",
        " \n",
        "    subject = \"Hey! wassup \"+ name + \", you have EMAIL FROM Student\"\n",
        "    message = emails.html(html=html_text,\n",
        "                          subject=\"Your EMAIL FROM PYTHON SCRIPT\",\n",
        "                          mail_from=('himadri', 'himadri@xyz.com'))\n",
        " \n",
        "    \n",
        "    mail_via_python = message.send(to='himadri@xyz.com', \n",
        "                               smtp={'host': 'smtp.gmail.com', \n",
        "                                     'timeout': 5,\n",
        "                                    'port':587,\n",
        "                                    'user':'himadri@xyz.com',\n",
        "                                    'password':'12345abcd@',\n",
        "                                    'tls':True})\n",
        "    return mail_via_python.status_code"
      ],
      "execution_count": 6,
      "outputs": []
    },
    {
      "cell_type": "code",
      "metadata": {
        "id": "OlFf28nZ-rUI"
      },
      "source": [
        "sendMail(\"himadri1234@xyz.com\",\"himadri\")"
      ],
      "execution_count": 8,
      "outputs": []
    }
  ]
}
